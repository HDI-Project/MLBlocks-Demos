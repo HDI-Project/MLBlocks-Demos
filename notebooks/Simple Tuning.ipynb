{
 "cells": [
  {
   "cell_type": "code",
   "execution_count": 1,
   "metadata": {},
   "outputs": [],
   "source": [
    "from sklearn.datasets import load_wine\n",
    "from sklearn.metrics import f1_score\n",
    "from sklearn.model_selection import train_test_split"
   ]
  },
  {
   "cell_type": "code",
   "execution_count": 2,
   "metadata": {},
   "outputs": [],
   "source": [
    "from mlblocks.mlpipeline import MLPipeline"
   ]
  },
  {
   "cell_type": "code",
   "execution_count": 3,
   "metadata": {},
   "outputs": [],
   "source": [
    "from btb import HyperParameter, ParamTypes\n",
    "from btb.tuning import GP"
   ]
  },
  {
   "cell_type": "code",
   "execution_count": 27,
   "metadata": {},
   "outputs": [],
   "source": [
    "wine = load_wine()\n",
    "X_train, X_test, y_train, y_test = train_test_split(wine.data, wine.target)"
   ]
  },
  {
   "cell_type": "code",
   "execution_count": 5,
   "metadata": {},
   "outputs": [],
   "source": [
    "pipeline = MLPipeline(['random_forest_classifier'])"
   ]
  },
  {
   "cell_type": "code",
   "execution_count": 6,
   "metadata": {},
   "outputs": [
    {
     "name": "stdout",
     "output_type": "stream",
     "text": [
      "Hyperparameter: Name: criterion, Block Name: rf_classifier, Type: string, Range: ['entropy', 'gini'], Value: gini\n",
      "Hyperparameter: Name: max_features, Block Name: rf_classifier, Type: float, Range: [0.1, 1.0], Value: 0.46446437664959683\n",
      "Hyperparameter: Name: max_depth, Block Name: rf_classifier, Type: int, Range: [2, 10], Value: 7\n",
      "Hyperparameter: Name: min_samples_split, Block Name: rf_classifier, Type: int, Range: [2, 4], Value: 2\n",
      "Hyperparameter: Name: min_samples_leaf, Block Name: rf_classifier, Type: int, Range: [1, 3], Value: 2\n",
      "Hyperparameter: Name: n_estimators, Block Name: rf_classifier, Type: int_cat, Range: [100], Value: 100\n",
      "Hyperparameter: Name: n_jobs, Block Name: rf_classifier, Type: int_cat, Range: [-1], Value: -1\n"
     ]
    }
   ],
   "source": [
    "hyperparams = pipeline.get_tunable_hyperparams()\n",
    "for hyperparam in hyperparams:\n",
    "    print(hyperparam)"
   ]
  },
  {
   "cell_type": "code",
   "execution_count": 19,
   "metadata": {},
   "outputs": [
    {
     "data": {
      "text/plain": [
       "{'rf_classifier__criterion': 'gini',\n",
       " 'rf_classifier__max_features': 0.46446437664959683,\n",
       " 'rf_classifier__max_depth': 7,\n",
       " 'rf_classifier__min_samples_split': 2,\n",
       " 'rf_classifier__min_samples_leaf': 2,\n",
       " 'rf_classifier__n_estimators': 100,\n",
       " 'rf_classifier__n_jobs': -1}"
      ]
     },
     "execution_count": 19,
     "metadata": {},
     "output_type": "execute_result"
    }
   ],
   "source": [
    "pipeline.to_dict()"
   ]
  },
  {
   "cell_type": "code",
   "execution_count": 24,
   "metadata": {},
   "outputs": [
    {
     "data": {
      "text/plain": [
       "[(('rf_classifier', 'criterion'),\n",
       "  <btb.hyper_parameter.StringCatHyperParameter at 0x7fe2960b6940>),\n",
       " (('rf_classifier', 'max_features'),\n",
       "  <btb.hyper_parameter.FloatHyperParameter at 0x7fe2960b69e8>),\n",
       " (('rf_classifier', 'max_depth'),\n",
       "  <btb.hyper_parameter.IntHyperParameter at 0x7fe2960b6c18>),\n",
       " (('rf_classifier', 'min_samples_split'),\n",
       "  <btb.hyper_parameter.IntHyperParameter at 0x7fe2960b6a90>),\n",
       " (('rf_classifier', 'min_samples_leaf'),\n",
       "  <btb.hyper_parameter.IntHyperParameter at 0x7fe2960b6dd8>),\n",
       " (('rf_classifier', 'n_estimators'),\n",
       "  <btb.hyper_parameter.IntCatHyperParameter at 0x7fe2960b6c50>),\n",
       " (('rf_classifier', 'n_jobs'),\n",
       "  <btb.hyper_parameter.IntCatHyperParameter at 0x7fe2960b6978>)]"
      ]
     },
     "execution_count": 24,
     "metadata": {},
     "output_type": "execute_result"
    }
   ],
   "source": [
    "tunables = [\n",
    "    ((p.block_name, p.param_name), HyperParameter(p.param_type, p.param_range))\n",
    "    for p in pipeline.get_tunable_hyperparams()\n",
    "]\n",
    "tunables"
   ]
  },
  {
   "cell_type": "code",
   "execution_count": 25,
   "metadata": {},
   "outputs": [],
   "source": [
    "tuner = GP(tunables)"
   ]
  },
  {
   "cell_type": "code",
   "execution_count": 26,
   "metadata": {},
   "outputs": [
    {
     "data": {
      "text/plain": [
       "{('rf_classifier', 'criterion'): 'entropy',\n",
       " ('rf_classifier', 'max_features'): 0.48232461525591264,\n",
       " ('rf_classifier', 'max_depth'): 2,\n",
       " ('rf_classifier', 'min_samples_split'): 2,\n",
       " ('rf_classifier', 'min_samples_leaf'): 3,\n",
       " ('rf_classifier', 'n_estimators'): 100,\n",
       " ('rf_classifier', 'n_jobs'): -1}"
      ]
     },
     "execution_count": 26,
     "metadata": {},
     "output_type": "execute_result"
    }
   ],
   "source": [
    "tuner.propose()"
   ]
  },
  {
   "cell_type": "code",
   "execution_count": 28,
   "metadata": {},
   "outputs": [
    {
     "name": "stderr",
     "output_type": "stream",
     "text": [
      "/home/xals/.virtualenvs/MLBlocks-Demos/lib/python3.6/site-packages/sklearn/gaussian_process/gpr.py:335: UserWarning: Predicted variances smaller than 0. Setting those variances to 0.\n",
      "  warnings.warn(\"Predicted variances smaller than 0. \"\n",
      "/home/xals/.virtualenvs/MLBlocks-Demos/lib/python3.6/site-packages/sklearn/gaussian_process/gpr.py:335: UserWarning: Predicted variances smaller than 0. Setting those variances to 0.\n",
      "  warnings.warn(\"Predicted variances smaller than 0. \"\n"
     ]
    },
    {
     "data": {
      "text/plain": [
       "0.9777777777777777"
      ]
     },
     "execution_count": 28,
     "metadata": {},
     "output_type": "execute_result"
    }
   ],
   "source": [
    "for i in range(10):\n",
    "    params = tuner.propose()\n",
    "    pipeline.set_from_hyperparam_dict(params)\n",
    "    pipeline.fit(X_train, y_train)\n",
    "    y_pred = pipeline.predict(X_test)\n",
    "    score = f1_score(y_pred, y_test, average='micro')\n",
    "    tuner.add(params, score)\n",
    "\n",
    "score"
   ]
  },
  {
   "cell_type": "code",
   "execution_count": 29,
   "metadata": {},
   "outputs": [
    {
     "data": {
      "text/plain": [
       "{('rf_classifier', 'criterion'): 'gini',\n",
       " ('rf_classifier', 'max_features'): 0.1890833133445103,\n",
       " ('rf_classifier', 'max_depth'): 9,\n",
       " ('rf_classifier', 'min_samples_split'): 2,\n",
       " ('rf_classifier', 'min_samples_leaf'): 2,\n",
       " ('rf_classifier', 'n_estimators'): 100,\n",
       " ('rf_classifier', 'n_jobs'): -1}"
      ]
     },
     "execution_count": 29,
     "metadata": {},
     "output_type": "execute_result"
    }
   ],
   "source": [
    "params"
   ]
  }
 ],
 "metadata": {
  "kernelspec": {
   "display_name": "Python 3",
   "language": "python",
   "name": "python3"
  },
  "language_info": {
   "codemirror_mode": {
    "name": "ipython",
    "version": 3
   },
   "file_extension": ".py",
   "mimetype": "text/x-python",
   "name": "python",
   "nbconvert_exporter": "python",
   "pygments_lexer": "ipython3",
   "version": "3.6.5"
  }
 },
 "nbformat": 4,
 "nbformat_minor": 2
}
